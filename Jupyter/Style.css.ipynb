{
 "cells": [
  {
   "cell_type": "markdown",
   "metadata": {},
   "source": [
    "## Section 1: Styling for Vertical Block with Fixed Header\n",
    "This section targets the vertical block containing a fixed header within the Streamlit layout. It ensures that the text is center-aligned and that the block remains visible during scrolling.\n"
   ]
  },
  {
   "cell_type": "code",
   "execution_count": null,
   "metadata": {
    "vscode": {
     "languageId": "plaintext"
    }
   },
   "outputs": [],
   "source": [
    "/* Targeting a vertical block that contains a fixed header within the Streamlit layout. */\n",
    "div[data-testid=\"stVerticalBlock\"] div:has(div.fixed-header) {\n",
    "    text-align: center;  /* Center-align the text within this block. */\n",
    "    position: sticky;    /* Keep this block fixed during scrolling. */\n",
    "    top: 2.875rem;       /* Offset the block from the top of the viewport. */\n",
    "    z-index: 999;        /* Ensure this block appears above other elements. */\n",
    "}"
   ]
  },
  {
   "cell_type": "markdown",
   "metadata": {},
   "source": [
    "## Section 2: Chat Title Styling\n",
    "Here, styles are defined for the chat title section. This section enhances visibility and design, ensuring that the chat title is prominent, centered, and consistently aligned with other sticky elements.\n"
   ]
  },
  {
   "cell_type": "code",
   "execution_count": null,
   "metadata": {
    "vscode": {
     "languageId": "plaintext"
    }
   },
   "outputs": [],
   "source": [
    "/* Styles for the chat title section, enhancing visibility and design. */\n",
    ".chat-title {\n",
    "    font-size: 50px;                     /* Set the font size to 50 pixels for prominence. */\n",
    "    font-weight: bold;                   /* Make the font bold for emphasis. */\n",
    "    background-color: #ffffff;           /* Set the background color to white for clarity. */\n",
    "    z-index: 999;                        /* Keep it above other elements to prevent overlapping. */\n",
    "    text-align: center;                  /* Center-align the title text. */\n",
    "    position: sticky;                    /* Make the title sticky so it remains visible on scroll. */\n",
    "    top: 2.875rem;                       /* Offset from the top for consistent alignment with other sticky elements. */\n",
    "}"
   ]
  },
  {
   "cell_type": "markdown",
   "metadata": {},
   "source": [
    "## Section 3: User Message Styling\n",
    "This section provides styles for user messages, making them visually distinct and easy to read. It ensures that user messages are aligned to the right with a light gray background, enhancing clarity and aesthetics.\n"
   ]
  },
  {
   "cell_type": "code",
   "execution_count": null,
   "metadata": {
    "vscode": {
     "languageId": "plaintext"
    }
   },
   "outputs": [],
   "source": [
    "/* Styles for user messages, ensuring they are visually distinct and easy to read. */\n",
    ".user-message {\n",
    "    text-align: right;                    /* Align the user's messages to the right side. */\n",
    "    background-color: #f1f1f1;           /* Light gray background for user messages for distinction. */\n",
    "    color: black;                         /* Set the text color to black for readability. */\n",
    "    padding: 10px;                       /* Add padding for spacing within the message bubble. */\n",
    "    border-radius: 10px;                 /* Round the corners of the message bubble for a softer look. */\n",
    "    margin-bottom: 10px;                 /* Add space below each message bubble. */\n",
    "    max-width: 70%;                       /* Limit the message width to 70% of the container for better layout. */\n",
    "    display: inline-block;                /* Display as inline-block to respect width and align properly. */\n",
    "    float: right;                        /* Float the message to the right for a natural chat layout. */\n",
    "}"
   ]
  },
  {
   "cell_type": "markdown",
   "metadata": {},
   "source": [
    "## Section 4: Assistant Message Styling\n",
    "Styles for assistant messages are defined in this section. The purpose is to create a distinct appearance separate from user messages, ensuring that they are left-aligned and consistently styled for a cohesive chat experience."
   ]
  },
  {
   "cell_type": "code",
   "execution_count": null,
   "metadata": {
    "vscode": {
     "languageId": "plaintext"
    }
   },
   "outputs": [],
   "source": [
    "/* Styles for assistant messages, creating a distinct appearance separate from user messages. */\n",
    ".assistant-message {\n",
    "    text-align: left;                     /* Align the assistant's messages to the left side. */\n",
    "    padding: 10px;                        /* Add padding for spacing within the message bubble. */\n",
    "    border-radius: 10px;                  /* Round the corners of the message bubble for a cohesive look. */\n",
    "    margin-bottom: 10px;                  /* Add space below each message bubble. */\n",
    "    width: 70%;                           /* Set the width of the message bubble to 70% for consistent layout. */\n",
    "    float: left;                         /* Float the message to the left for a natural chat layout. */\n",
    "    clear: both;                         /* Clear floats to avoid layout issues with surrounding elements. */\n",
    "}"
   ]
  }
 ],
 "metadata": {
  "language_info": {
   "name": "python"
  }
 },
 "nbformat": 4,
 "nbformat_minor": 2
}
