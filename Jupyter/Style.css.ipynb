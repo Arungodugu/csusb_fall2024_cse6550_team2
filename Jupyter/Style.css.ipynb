{
 "cells": [
  {
   "cell_type": "markdown",
   "metadata": {},
   "source": [
    "## Section 1: Styling for Vertical Block with Fixed Header\n",
    "This section targets the vertical block containing a fixed header within the Streamlit layout. It ensures that the text is center-aligned and that the block remains visible during scrolling.\n"
   ]
  },
  {
   "cell_type": "code",
   "execution_count": null,
   "metadata": {
    "vscode": {
     "languageId": "plaintext"
    }
   },
   "outputs": [],
   "source": [
    "/* Targeting a vertical block that contains a fixed header within the Streamlit layout. */\n",
    "div[data-testid=\"stVerticalBlock\"] div:has(div.fixed-header) {\n",
    "    text-align: center;  /* Center-align the text within this block. */\n",
    "    position: sticky;    /* Keep this block fixed during scrolling. */\n",
    "    top: 2.875rem;       /* Offset the block from the top of the viewport. */\n",
    "    z-index: 999;        /* Ensure this block appears above other elements. */\n",
    "}"
   ]
  },
  {
   "cell_type": "markdown",
   "metadata": {},
   "source": [
    "## Section 2: Chat Title Styling\n",
    "Here, styles are defined for the chat title section. This section enhances visibility and design, ensuring that the chat title is prominent, centered, and consistently aligned with other sticky elements.\n"
   ]
  },
  {
   "cell_type": "code",
   "execution_count": null,
   "metadata": {
    "vscode": {
     "languageId": "plaintext"
    }
   },
   "outputs": [],
   "source": [
    "/* Styles for the chat title section, enhancing visibility and design. */\n",
    ".chat-title {\n",
    "    font-size: 50px;                     /* Set the font size to 50 pixels for prominence. */\n",
    "    font-weight: bold;                   /* Make the font bold for emphasis. */\n",
    "    background-color: #ffffff;           /* Set the background color to white for clarity. */\n",
    "    z-index: 999;                        /* Keep it above other elements to prevent overlapping. */\n",
    "    text-align: center;                  /* Center-align the title text. */\n",
    "    position: sticky;                    /* Make the title sticky so it remains visible on scroll. */\n",
    "    top: 2.875rem;                       /* Offset from the top for consistent alignment with other sticky elements. */\n",
    "}"
   ]
  }
 ],
 "metadata": {
  "language_info": {
   "name": "python"
  }
 },
 "nbformat": 4,
 "nbformat_minor": 2
}
