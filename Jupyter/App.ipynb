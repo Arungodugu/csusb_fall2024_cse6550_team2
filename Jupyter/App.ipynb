{
 "cells": [
  {
   "cell_type": "markdown",
   "id": "e9fc1936",
   "metadata": {},
   "source": [
    "\n",
    "# Academic Advisor Chatbot Streamlit Application\n",
    "\n",
    "This notebook provides a structured breakdown of code sections for creating a Streamlit application designed as an academic advisor chatbot. Each section is well-documented, explaining the purpose and functionality of the code.\n"
   ]
  },
  {
   "cell_type": "markdown",
   "id": "960ef09d",
   "metadata": {},
   "source": [
    "## **Section 1: Import Required Libraries and Modules**"
   ]
  },
  {
   "cell_type": "code",
   "execution_count": null,
   "id": "6056780e",
   "metadata": {},
   "outputs": [],
   "source": [
    "\n",
    "# Import the Streamlit library for creating web applications.\n",
    "import streamlit as st\n",
    "\n",
    "# Import os for interacting with the operating system, such as file paths.\n",
    "import os\n",
    "\n",
    "# Import subprocess to execute shell commands within Python.\n",
    "import subprocess\n",
    "\n",
    "# Import time to handle timing-related functions.\n",
    "import time\n",
    "\n",
    "# Import everything from the Inference module to access its functionalities.\n",
    "from Inference import *\n"
   ]
  },
  {
   "cell_type": "markdown",
   "id": "d4e7d2a5",
   "metadata": {},
   "source": [
    "## **Section 2: Define Corpus Sources**"
   ]
  },
  {
   "cell_type": "code",
   "execution_count": null,
   "id": "420ee7c1",
   "metadata": {},
   "outputs": [],
   "source": [
    "\n",
    "# Define a list of corpus sources that the chatbot may use for generating responses.\n",
    "corpus_source = [\n",
    "    \"https://www.csusb.edu/cse\",  # First source URL\n",
    "    \"https://catalog.csusb.edu/\"   # Second source URL\n",
    "]\n"
   ]
  },
  {
   "cell_type": "markdown",
   "id": "5cbf1955",
   "metadata": {},
   "source": [
    "## **Section 3: Set Up Streamlit Page Configuration**"
   ]
  },
  {
   "cell_type": "code",
   "execution_count": null,
   "id": "c4536978",
   "metadata": {},
   "outputs": [],
   "source": [
    "\n",
    "# Set the title of the web application in the browser tab.\n",
    "st.set_page_config(page_title=\"Academic Chatbot - Team2\")\n"
   ]
  },
  {
   "cell_type": "markdown",
   "id": "73a5d8ae",
   "metadata": {},
   "source": [
    "## **Section 4: Initialize Session State Variables**"
   ]
  },
  {
   "cell_type": "code",
   "execution_count": null,
   "id": "eb2388b2",
   "metadata": {},
   "outputs": [],
   "source": [
    "\n",
    "# Define the main function where the app logic will be implemented.\n",
    "def main():\n",
    "    # Initialize session state to keep track of user inputs and application state.\n",
    "    if 'input_given' not in st.session_state:\n",
    "        st.session_state['input_given'] = False  # Track if input has been given\n",
    "\n",
    "    if 'title_animated' not in st.session_state:\n",
    "        st.session_state['title_animated'] = False  # Track if the title has been animated\n",
    "\n",
    "    if 'title_placeholder' not in st.session_state:\n",
    "        st.session_state['title_placeholder'] = st.empty()  # Initialize placeholder for the title\n",
    "\n",
    "    # Initialize various metrics to track user interactions with the chatbot.\n",
    "    if 'num_questions' not in st.session_state:\n",
    "        st.session_state['num_questions'] = 0  # Track the number of questions asked\n",
    "\n",
    "    if 'num_correct_answers' not in st.session_state:\n",
    "        st.session_state['num_correct_answers'] = 0  # Track the number of correct answers\n",
    "\n",
    "    if 'num_incorrect_answers' not in st.session_state:\n",
    "        st.session_state['num_incorrect_answers'] = 0  # Track the number of incorrect answers\n",
    "\n",
    "    if 'total_response_time' not in st.session_state:\n",
    "        st.session_state['total_response_time'] = 0.0  # Track the total time taken for responses\n",
    "\n",
    "    if 'num_responses' not in st.session_state:\n",
    "        st.session_state['num_responses'] = 0  # Track the total number of responses given\n",
    "\n",
    "    if 'user_engagement' not in st.session_state:\n",
    "        st.session_state['user_engagement'] = {'likes': 0, 'dislikes': 0}  # Initialize user engagement metrics\n"
   ]
  },
  {
   "cell_type": "markdown",
   "id": "af047caa",
   "metadata": {},
   "source": [
    "## **Section 5: Load Custom CSS Styles**"
   ]
  },
  {
   "cell_type": "code",
   "execution_count": null,
   "id": "8f42b37a",
   "metadata": {},
   "outputs": [],
   "source": [
    "\n",
    "    # Load CSS styles for custom formatting of the app interface.\n",
    "    with open(\"./style.css\") as f:  # Open the CSS file\n",
    "        st.markdown(f'<style>{f.read()}</style>', unsafe_allow_html=True)  # Load styles into the app\n"
   ]
  },
  {
   "cell_type": "markdown",
   "id": "8e94dae0",
   "metadata": {},
   "source": [
    "## **Section 6: Define Title Animation Function**"
   ]
  },
  {
   "cell_type": "code",
   "execution_count": null,
   "id": "b2701c18",
   "metadata": {},
   "outputs": [],
   "source": [
    "\n",
    "    # Function to create an animated typing effect for the title.\n",
    "    def typing_title_animation(title, delay=0.3):\n",
    "        placeholder = st.empty()  # Create a placeholder to update dynamically\n",
    "        words = title.split()  # Split the title into words\n",
    "        full_text = \"\"  # Initialize an empty string for the animated title text\n",
    "        for word in words:  # Iterate over each word\n",
    "            full_text += word + \" \"  # Add the current word to the full text\n",
    "            # Update the placeholder with the current animated title\n",
    "            placeholder.markdown(f\"<h1 style='text-align: center;'>{full_text.strip()}</h1>\", unsafe_allow_html=True)\n",
    "            time.sleep(delay)  # Pause for the specified delay\n",
    "        return placeholder  # Return the placeholder\n"
   ]
  }
 ],
 "metadata": {},
 "nbformat": 4,
 "nbformat_minor": 5
}
